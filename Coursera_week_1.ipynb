{
  "nbformat": 4,
  "nbformat_minor": 0,
  "metadata": {
    "colab": {
      "name": "Untitled0.ipynb",
      "provenance": [],
      "collapsed_sections": [],
      "authorship_tag": "ABX9TyNers5PVa4MUUSB+Lb/zP0/",
      "include_colab_link": true
    },
    "kernelspec": {
      "name": "python3",
      "display_name": "Python 3"
    }
  },
  "cells": [
    {
      "cell_type": "markdown",
      "metadata": {
        "id": "view-in-github",
        "colab_type": "text"
      },
      "source": [
        "<a href=\"https://colab.research.google.com/github/maiara27/Maiara/blob/master/Coursera_week_1.ipynb\" target=\"_parent\"><img src=\"https://colab.research.google.com/assets/colab-badge.svg\" alt=\"Open In Colab\"/></a>"
      ]
    },
    {
      "cell_type": "code",
      "metadata": {
        "id": "WX-pw17yrQfO",
        "colab_type": "code",
        "colab": {}
      },
      "source": [
        "import tensorflow as tf\n",
        "import numpy as np\n",
        "from tensorflow import keras\n",
        "\n",
        "# in Keras you use the word DENSE to define a layer of connected neuros\n",
        "# sucessive layers use the word Sequential\n",
        "model = keras.Sequential([keras.layers.Dense(units = 1, input_shape = [1])])\n",
        "\n",
        "model = keras.Sequential([keras.layers.Dense(units = 1, input_shape = [1])])\n",
        "model.compile(optimizer = 'sgd', loss = 'mean_squared_error')\n",
        "print('POOF')\n",
        "\n",
        "xs = np.array([-1, 0, 1, 2, 3, 4], dtype =float)\n",
        "ys = np.array([-3, -1, 1, 3, 5, 7], dtype =float)\n",
        "\n",
        "#the training is fit in the fit command; epochs = will go through the trainning\n",
        "#loop 500 times\n",
        "model.fit(xs, ys, epochs=500)\n",
        "\n",
        "print(model.predict([10]))"
      ],
      "execution_count": 0,
      "outputs": []
    }
  ]
}